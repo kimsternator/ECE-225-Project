{
 "cells": [
  {
   "cell_type": "markdown",
   "id": "77c63684",
   "metadata": {},
   "source": [
    "# Credit Risk \n",
    "## Abstract\n",
    "Summary tbd\n",
    "## Problem\n",
    "This project will be a dataset exploration of the Credit Risk dataset from the Give Me Some Credit Feature Prediction Competition hosted on Kaggle.com. Some features included in this dataset include monthly income, number of dependents, and age. Using such features, I plan on exploring the question of whether or not an individual is at “Credit Risk”. Credit risk is a measure of the probability that an individual will not be able to pay back a debt such as those gained from a credit card or a loan. This measure will help financial institutions determine whether to allow an individual to take out a loan in good faith. Currently, banks and other related financial institutions have measured this through FICO Credit Score and other such means. The measures for what exactly make a candidate at risk is a black box. Often, the only piece of information given back to the consumer is their credit score, but where this result comes from is unclear. For this project, I will be looking at the impact certain features have on whether or not an individual is at credit risk. In doing so, I can shed some light on which features are the most important in considering whether an individual's probability of credit risk is high.\n",
    "## Data Cleaning\n",
    "In this section, I will be cleaning the data (removing Nan values) in preparation for analysis."
   ]
  },
  {
   "cell_type": "code",
   "execution_count": 121,
   "id": "1814569b",
   "metadata": {},
   "outputs": [
    {
     "name": "stdout",
     "output_type": "stream",
     "text": [
      "Total Samples: 150000\n",
      "SeriousDlqin2yrs                            0\n",
      "RevolvingUtilizationOfUnsecuredLines        0\n",
      "age                                         0\n",
      "NumberOfTime30-59DaysPastDueNotWorse        0\n",
      "DebtRatio                                   0\n",
      "MonthlyIncome                           29731\n",
      "NumberOfOpenCreditLinesAndLoans             0\n",
      "NumberOfTimes90DaysLate                     0\n",
      "NumberRealEstateLoansOrLines                0\n",
      "NumberOfTime60-89DaysPastDueNotWorse        0\n",
      "NumberOfDependents                       3924\n",
      "dtype: int64\n"
     ]
    }
   ],
   "source": [
    "import pandas as pd\n",
    "\n",
    "training_data = pd.read_csv(\"./Raw Data/cs-training.csv\", index_col=0)\n",
    "\n",
    "print(\"Total Samples:\", len(training_data))\n",
    "print(training_data.isna().sum())"
   ]
  },
  {
   "cell_type": "markdown",
   "id": "df30d346",
   "metadata": {},
   "source": [
    "We can see there are some rows that have Nan values for MonthlyIncome and/or NumberOfDependents. While it may be easy and reasonable to substitute 0 for NumberOfDependents, it would not be reasonable to do the same. I suspect thaht these Nan values are those that chose to not disclose such information. For this reason, and because our sample size is large enough, I chose to drop all of the rows with Nan values."
   ]
  },
  {
   "cell_type": "code",
   "execution_count": 122,
   "id": "7482e054",
   "metadata": {},
   "outputs": [
    {
     "name": "stdout",
     "output_type": "stream",
     "text": [
      "Remaining Samples: 120269\n"
     ]
    }
   ],
   "source": [
    "# Dropping Nan since Nan seems to mean that no entry submitted for Monthly Income or Number of Dependents\n",
    "training_data.dropna(inplace = True)\n",
    "# Monthly income and Dependents are given as Integers\n",
    "training_data = training_data.astype({\"NumberOfDependents\":'int', \"MonthlyIncome\":'int'}) \n",
    "print(\"Remaining Samples:\", len(training_data))\n",
    "training_data.to_csv(\"./Cleaned Data/Analysis/data.csv\", index=False)"
   ]
  },
  {
   "cell_type": "markdown",
   "id": "4f416f5f",
   "metadata": {},
   "source": [
    "## Data Analysis\n",
    "In this section, I will be analyzing the different features of the dataset. The following gives the descriptions of each feature as well as the format they are entered as.\n",
    "\n",
    "![Data Descriptions](./Images/data_descriptions.png)"
   ]
  },
  {
   "cell_type": "code",
   "execution_count": 1,
   "id": "ec87696f",
   "metadata": {},
   "outputs": [
    {
     "name": "stdout",
     "output_type": "stream",
     "text": [
      "(120269, 11)\n"
     ]
    },
    {
     "data": {
      "text/html": [
       "<div>\n",
       "<style scoped>\n",
       "    .dataframe tbody tr th:only-of-type {\n",
       "        vertical-align: middle;\n",
       "    }\n",
       "\n",
       "    .dataframe tbody tr th {\n",
       "        vertical-align: top;\n",
       "    }\n",
       "\n",
       "    .dataframe thead th {\n",
       "        text-align: right;\n",
       "    }\n",
       "</style>\n",
       "<table border=\"1\" class=\"dataframe\">\n",
       "  <thead>\n",
       "    <tr style=\"text-align: right;\">\n",
       "      <th></th>\n",
       "      <th>SeriousDlqin2yrs</th>\n",
       "      <th>RevolvingUtilizationOfUnsecuredLines</th>\n",
       "      <th>age</th>\n",
       "      <th>NumberOfTime30-59DaysPastDueNotWorse</th>\n",
       "      <th>DebtRatio</th>\n",
       "      <th>MonthlyIncome</th>\n",
       "      <th>NumberOfOpenCreditLinesAndLoans</th>\n",
       "      <th>NumberOfTimes90DaysLate</th>\n",
       "      <th>NumberRealEstateLoansOrLines</th>\n",
       "      <th>NumberOfTime60-89DaysPastDueNotWorse</th>\n",
       "      <th>NumberOfDependents</th>\n",
       "    </tr>\n",
       "  </thead>\n",
       "  <tbody>\n",
       "    <tr>\n",
       "      <th>0</th>\n",
       "      <td>1</td>\n",
       "      <td>0.766127</td>\n",
       "      <td>45</td>\n",
       "      <td>2</td>\n",
       "      <td>0.802982</td>\n",
       "      <td>9120</td>\n",
       "      <td>13</td>\n",
       "      <td>0</td>\n",
       "      <td>6</td>\n",
       "      <td>0</td>\n",
       "      <td>2</td>\n",
       "    </tr>\n",
       "    <tr>\n",
       "      <th>1</th>\n",
       "      <td>0</td>\n",
       "      <td>0.957151</td>\n",
       "      <td>40</td>\n",
       "      <td>0</td>\n",
       "      <td>0.121876</td>\n",
       "      <td>2600</td>\n",
       "      <td>4</td>\n",
       "      <td>0</td>\n",
       "      <td>0</td>\n",
       "      <td>0</td>\n",
       "      <td>1</td>\n",
       "    </tr>\n",
       "    <tr>\n",
       "      <th>2</th>\n",
       "      <td>0</td>\n",
       "      <td>0.658180</td>\n",
       "      <td>38</td>\n",
       "      <td>1</td>\n",
       "      <td>0.085113</td>\n",
       "      <td>3042</td>\n",
       "      <td>2</td>\n",
       "      <td>1</td>\n",
       "      <td>0</td>\n",
       "      <td>0</td>\n",
       "      <td>0</td>\n",
       "    </tr>\n",
       "    <tr>\n",
       "      <th>3</th>\n",
       "      <td>0</td>\n",
       "      <td>0.233810</td>\n",
       "      <td>30</td>\n",
       "      <td>0</td>\n",
       "      <td>0.036050</td>\n",
       "      <td>3300</td>\n",
       "      <td>5</td>\n",
       "      <td>0</td>\n",
       "      <td>0</td>\n",
       "      <td>0</td>\n",
       "      <td>0</td>\n",
       "    </tr>\n",
       "    <tr>\n",
       "      <th>4</th>\n",
       "      <td>0</td>\n",
       "      <td>0.907239</td>\n",
       "      <td>49</td>\n",
       "      <td>1</td>\n",
       "      <td>0.024926</td>\n",
       "      <td>63588</td>\n",
       "      <td>7</td>\n",
       "      <td>0</td>\n",
       "      <td>1</td>\n",
       "      <td>0</td>\n",
       "      <td>0</td>\n",
       "    </tr>\n",
       "  </tbody>\n",
       "</table>\n",
       "</div>"
      ],
      "text/plain": [
       "   SeriousDlqin2yrs  RevolvingUtilizationOfUnsecuredLines  age  \\\n",
       "0                 1                              0.766127   45   \n",
       "1                 0                              0.957151   40   \n",
       "2                 0                              0.658180   38   \n",
       "3                 0                              0.233810   30   \n",
       "4                 0                              0.907239   49   \n",
       "\n",
       "   NumberOfTime30-59DaysPastDueNotWorse  DebtRatio  MonthlyIncome  \\\n",
       "0                                     2   0.802982           9120   \n",
       "1                                     0   0.121876           2600   \n",
       "2                                     1   0.085113           3042   \n",
       "3                                     0   0.036050           3300   \n",
       "4                                     1   0.024926          63588   \n",
       "\n",
       "   NumberOfOpenCreditLinesAndLoans  NumberOfTimes90DaysLate  \\\n",
       "0                               13                        0   \n",
       "1                                4                        0   \n",
       "2                                2                        1   \n",
       "3                                5                        0   \n",
       "4                                7                        0   \n",
       "\n",
       "   NumberRealEstateLoansOrLines  NumberOfTime60-89DaysPastDueNotWorse  \\\n",
       "0                             6                                     0   \n",
       "1                             0                                     0   \n",
       "2                             0                                     0   \n",
       "3                             0                                     0   \n",
       "4                             1                                     0   \n",
       "\n",
       "   NumberOfDependents  \n",
       "0                   2  \n",
       "1                   1  \n",
       "2                   0  \n",
       "3                   0  \n",
       "4                   0  "
      ]
     },
     "execution_count": 1,
     "metadata": {},
     "output_type": "execute_result"
    }
   ],
   "source": [
    "import pandas as pd\n",
    "import seaborn as sns\n",
    "import matplotlib.pyplot as plt\n",
    "from tabulate import tabulate\n",
    "\n",
    "training_data = pd.read_csv(\"./Cleaned Data/Analysis/data.csv\", index_col=False)\n",
    "\n",
    "print(training_data.shape)\n",
    "training_data.head()"
   ]
  },
  {
   "cell_type": "markdown",
   "id": "47d83acc",
   "metadata": {},
   "source": [
    "### RevolvingUtilizationOfUnsecuredLines\n",
    "In this section, I will be analyzing the RevolvingUtilizationOfUnsecuredLines feature. First, I look at the distribution of the values for this feature."
   ]
  },
  {
   "cell_type": "code",
   "execution_count": 118,
   "id": "9313084c",
   "metadata": {},
   "outputs": [
    {
     "data": {
      "image/png": "[encoded data removed]",
      "text/plain": [
       "<Figure size 720x360 with 3 Axes>"
      ]
     },
     "metadata": {
      "needs_background": "light"
     },
     "output_type": "display_data"
    }
   ],
   "source": [
    "fig = plt.figure(figsize=(10, 5))\n",
    "\n",
    "plt.subplot(3, 1, 1)\n",
    "plt.boxplot(training_data[\"RevolvingUtilizationOfUnsecuredLines\"], vert=False)\n",
    "ax = plt.gca()\n",
    "ax.set_title(\"RevolvingUtilizationOfUnsecuredLines\")\n",
    "ax.get_yaxis().set_visible(False)\n",
    "\n",
    "plt.subplot(3, 1, 2)\n",
    "plt.boxplot(training_data[training_data[\"SeriousDlqin2yrs\"] == 0][\"RevolvingUtilizationOfUnsecuredLines\"], vert=False)\n",
    "ax = plt.gca()\n",
    "ax.set_title(\"RevolvingUtilizationOfUnsecuredLines (SeriousDlqin2yrs = 0)\")\n",
    "ax.get_yaxis().set_visible(False)\n",
    "\n",
    "plt.subplot(3, 1, 3)\n",
    "plt.boxplot(training_data[training_data[\"SeriousDlqin2yrs\"] == 1][\"RevolvingUtilizationOfUnsecuredLines\"], vert=False)\n",
    "ax = plt.gca()\n",
    "ax.set_title(\"RevolvingUtilizationOfUnsecuredLines (SeriousDlqin2yrs = 1)\")\n",
    "ax.get_yaxis().set_visible(False)\n",
    "\n",
    "fig.tight_layout(pad=2.0)\n",
    "plt.show()"
   ]
  },
  {
   "cell_type": "code",
   "execution_count": 135,
   "id": "df5dd7dd",
   "metadata": {},
   "outputs": [
    {
     "data": {
      "text/plain": [
       "count    120269.000000\n",
       "mean          5.899873\n",
       "std         257.040685\n",
       "min           0.000000\n",
       "25%           0.035084\n",
       "50%           0.177282\n",
       "75%           0.579428\n",
       "max       50708.000000\n",
       "Name: RevolvingUtilizationOfUnsecuredLines, dtype: float64"
      ]
     },
     "execution_count": 135,
     "metadata": {},
     "output_type": "execute_result"
    }
   ],
   "source": [
    "training_data[\"RevolvingUtilizationOfUnsecuredLines\"].describe()"
   ]
  },
  {
   "cell_type": "markdown",
   "id": "c60269a2",
   "metadata": {},
   "source": [
    "Immediately, I can see that there are some quite significant outliers. To get a better result, I will be removing significant outliers, namely those farther than (std / mean) + mean since our std is extremely high compared to our mean."
   ]
  },
  {
   "cell_type": "code",
   "execution_count": 158,
   "id": "5364f40e",
   "metadata": {},
   "outputs": [
    {
     "data": {
      "image/png": "[encoded data removed]",
      "text/plain": [
       "<Figure size 720x360 with 3 Axes>"
      ]
     },
     "metadata": {
      "needs_background": "light"
     },
     "output_type": "display_data"
    },
    {
     "name": "stdout",
     "output_type": "stream",
     "text": [
      "count    120103.000000\n",
      "mean          0.334732\n",
      "std           0.400968\n",
      "min           0.000000\n",
      "25%           0.034962\n",
      "50%           0.176658\n",
      "75%           0.576889\n",
      "max          42.000000\n",
      "Name: RevolvingUtilizationOfUnsecuredLines, dtype: float64\n"
     ]
    }
   ],
   "source": [
    "mean = training_data[\"RevolvingUtilizationOfUnsecuredLines\"].mean()\n",
    "std = training_data[\"RevolvingUtilizationOfUnsecuredLines\"].std()\n",
    "\n",
    "processed_data = training_data[training_data[\"RevolvingUtilizationOfUnsecuredLines\"] <= std / mean + mean]\n",
    "\n",
    "fig = plt.figure(figsize=(10, 5))\n",
    "\n",
    "plt.subplot(3, 1, 1)\n",
    "plt.boxplot(processed_data[\"RevolvingUtilizationOfUnsecuredLines\"], vert=False)\n",
    "ax = plt.gca()\n",
    "ax.set_title(\"RevolvingUtilizationOfUnsecuredLines\")\n",
    "ax.get_yaxis().set_visible(False)\n",
    "\n",
    "plt.subplot(3, 1, 2)\n",
    "plt.boxplot(processed_data[processed_data[\"SeriousDlqin2yrs\"] == 0][\"RevolvingUtilizationOfUnsecuredLines\"], vert=False)\n",
    "ax = plt.gca()\n",
    "ax.set_title(\"RevolvingUtilizationOfUnsecuredLines (SeriousDlqin2yrs = 0)\")\n",
    "ax.get_yaxis().set_visible(False)\n",
    "\n",
    "plt.subplot(3, 1, 3)\n",
    "plt.boxplot(processed_data[processed_data[\"SeriousDlqin2yrs\"] == 1][\"RevolvingUtilizationOfUnsecuredLines\"], vert=False)\n",
    "ax = plt.gca()\n",
    "ax.set_title(\"RevolvingUtilizationOfUnsecuredLines (SeriousDlqin2yrs = 1)\")\n",
    "ax.get_yaxis().set_visible(False)\n",
    "\n",
    "fig.tight_layout(pad=2.0)\n",
    "plt.show()\n",
    "print(processed_data[\"RevolvingUtilizationOfUnsecuredLines\"].describe())"
   ]
  },
  {
   "cell_type": "markdown",
   "id": "2abd8559",
   "metadata": {},
   "source": [
    "### Age\n",
    "In this section, I will be analyzing the age feature."
   ]
  },
  {
   "cell_type": "code",
   "execution_count": 3,
   "id": "02acabb6",
   "metadata": {},
   "outputs": [
    {
     "data": {
      "image/png": "[encoded data removed]",
      "text/plain": [
       "<Figure size 720x360 with 3 Axes>"
      ]
     },
     "metadata": {
      "needs_background": "light"
     },
     "output_type": "display_data"
    },
    {
     "name": "stdout",
     "output_type": "stream",
     "text": [
      "count    120269.000000\n",
      "mean         51.289792\n",
      "std          14.426684\n",
      "min           0.000000\n",
      "25%          40.000000\n",
      "50%          51.000000\n",
      "75%          61.000000\n",
      "max         103.000000\n",
      "Name: age, dtype: float64\n"
     ]
    }
   ],
   "source": [
    "fig = plt.figure(figsize=(10, 5))\n",
    "\n",
    "plt.subplot(3, 1, 1)\n",
    "plt.boxplot(training_data[\"age\"], vert=False)\n",
    "ax = plt.gca()\n",
    "ax.set_title(\"age\")\n",
    "ax.get_yaxis().set_visible(False)\n",
    "\n",
    "plt.subplot(3, 1, 2)\n",
    "plt.boxplot(training_data[training_data[\"SeriousDlqin2yrs\"] == 0][\"age\"], vert=False)\n",
    "ax = plt.gca()\n",
    "ax.set_title(\"age (SeriousDlqin2yrs = 0)\")\n",
    "ax.get_yaxis().set_visible(False)\n",
    "\n",
    "plt.subplot(3, 1, 3)\n",
    "plt.boxplot(training_data[training_data[\"SeriousDlqin2yrs\"] == 1][\"age\"], vert=False)\n",
    "ax = plt.gca()\n",
    "ax.set_title(\"age (SeriousDlqin2yrs = 1)\")\n",
    "ax.get_yaxis().set_visible(False)\n",
    "\n",
    "fig.tight_layout(pad=2.0)\n",
    "plt.show()\n",
    "\n",
    "print(training_data[\"age\"].describe())"
   ]
  },
  {
   "cell_type": "markdown",
   "id": "3b23c4c4",
   "metadata": {},
   "source": [
    "The data looks somewhat clean. I do see that there are some cases where the age is 0, which should not be considered and will be removed."
   ]
  },
  {
   "cell_type": "code",
   "execution_count": 5,
   "id": "186dce88",
   "metadata": {},
   "outputs": [
    {
     "data": {
      "image/png": "[encoded data removed]",
      "text/plain": [
       "<Figure size 720x360 with 3 Axes>"
      ]
     },
     "metadata": {
      "needs_background": "light"
     },
     "output_type": "display_data"
    },
    {
     "name": "stdout",
     "output_type": "stream",
     "text": [
      "count    120268.000000\n",
      "mean         51.290219\n",
      "std          14.425986\n",
      "min          21.000000\n",
      "25%          40.000000\n",
      "50%          51.000000\n",
      "75%          61.000000\n",
      "max         103.000000\n",
      "Name: age, dtype: float64\n"
     ]
    }
   ],
   "source": [
    "processed_data = training_data[training_data[\"age\"] > 0]\n",
    "\n",
    "fig = plt.figure(figsize=(10, 5))\n",
    "\n",
    "plt.subplot(3, 1, 1)\n",
    "plt.boxplot(processed_data[\"age\"], vert=False)\n",
    "ax = plt.gca()\n",
    "ax.set_title(\"age\")\n",
    "ax.get_yaxis().set_visible(False)\n",
    "\n",
    "plt.subplot(3, 1, 2)\n",
    "plt.boxplot(processed_data[processed_data[\"SeriousDlqin2yrs\"] == 0][\"age\"], vert=False)\n",
    "ax = plt.gca()\n",
    "ax.set_title(\"age (SeriousDlqin2yrs = 0)\")\n",
    "ax.get_yaxis().set_visible(False)\n",
    "\n",
    "plt.subplot(3, 1, 3)\n",
    "plt.boxplot(processed_data[processed_data[\"SeriousDlqin2yrs\"] == 1][\"age\"], vert=False)\n",
    "ax = plt.gca()\n",
    "ax.set_title(\"age (SeriousDlqin2yrs = 1)\")\n",
    "ax.get_yaxis().set_visible(False)\n",
    "\n",
    "fig.tight_layout(pad=2.0)\n",
    "plt.show()\n",
    "print(processed_data[\"age\"].describe())"
   ]
  },
  {
   "cell_type": "code",
   "execution_count": 80,
   "id": "2267041b",
   "metadata": {},
   "outputs": [
    {
     "data": {
      "text/html": [
       "<div>\n",
       "<style scoped>\n",
       "    .dataframe tbody tr th:only-of-type {\n",
       "        vertical-align: middle;\n",
       "    }\n",
       "\n",
       "    .dataframe tbody tr th {\n",
       "        vertical-align: top;\n",
       "    }\n",
       "\n",
       "    .dataframe thead th {\n",
       "        text-align: right;\n",
       "    }\n",
       "</style>\n",
       "<table border=\"1\" class=\"dataframe\">\n",
       "  <thead>\n",
       "    <tr style=\"text-align: right;\">\n",
       "      <th></th>\n",
       "      <th>RevolvingUtilizationOfUnsecuredLines</th>\n",
       "      <th>age</th>\n",
       "      <th>NumberOfTime30-59DaysPastDueNotWorse</th>\n",
       "      <th>DebtRatio</th>\n",
       "      <th>MonthlyIncome</th>\n",
       "      <th>NumberOfOpenCreditLinesAndLoans</th>\n",
       "      <th>NumberOfTimes90DaysLate</th>\n",
       "      <th>NumberRealEstateLoansOrLines</th>\n",
       "      <th>NumberOfTime60-89DaysPastDueNotWorse</th>\n",
       "      <th>NumberOfDependents</th>\n",
       "    </tr>\n",
       "    <tr>\n",
       "      <th>SeriousDlqin2yrs</th>\n",
       "      <th></th>\n",
       "      <th></th>\n",
       "      <th></th>\n",
       "      <th></th>\n",
       "      <th></th>\n",
       "      <th></th>\n",
       "      <th></th>\n",
       "      <th></th>\n",
       "      <th></th>\n",
       "      <th></th>\n",
       "    </tr>\n",
       "  </thead>\n",
       "  <tbody>\n",
       "    <tr>\n",
       "      <th>0</th>\n",
       "      <td>2340.0</td>\n",
       "      <td>45</td>\n",
       "      <td>0</td>\n",
       "      <td>0.339333</td>\n",
       "      <td>8333</td>\n",
       "      <td>7</td>\n",
       "      <td>0</td>\n",
       "      <td>2</td>\n",
       "      <td>0</td>\n",
       "      <td>2</td>\n",
       "    </tr>\n",
       "    <tr>\n",
       "      <th>1</th>\n",
       "      <td>2066.0</td>\n",
       "      <td>58</td>\n",
       "      <td>0</td>\n",
       "      <td>0.271121</td>\n",
       "      <td>6000</td>\n",
       "      <td>8</td>\n",
       "      <td>1</td>\n",
       "      <td>1</td>\n",
       "      <td>0</td>\n",
       "      <td>1</td>\n",
       "    </tr>\n",
       "    <tr>\n",
       "      <th>1</th>\n",
       "      <td>1143.0</td>\n",
       "      <td>44</td>\n",
       "      <td>2</td>\n",
       "      <td>0.547762</td>\n",
       "      <td>6500</td>\n",
       "      <td>13</td>\n",
       "      <td>0</td>\n",
       "      <td>4</td>\n",
       "      <td>0</td>\n",
       "      <td>2</td>\n",
       "    </tr>\n",
       "    <tr>\n",
       "      <th>0</th>\n",
       "      <td>6324.0</td>\n",
       "      <td>59</td>\n",
       "      <td>0</td>\n",
       "      <td>0.136673</td>\n",
       "      <td>11318</td>\n",
       "      <td>4</td>\n",
       "      <td>0</td>\n",
       "      <td>1</td>\n",
       "      <td>0</td>\n",
       "      <td>1</td>\n",
       "    </tr>\n",
       "    <tr>\n",
       "      <th>0</th>\n",
       "      <td>1982.0</td>\n",
       "      <td>33</td>\n",
       "      <td>0</td>\n",
       "      <td>0.144982</td>\n",
       "      <td>8000</td>\n",
       "      <td>4</td>\n",
       "      <td>0</td>\n",
       "      <td>0</td>\n",
       "      <td>0</td>\n",
       "      <td>0</td>\n",
       "    </tr>\n",
       "    <tr>\n",
       "      <th>...</th>\n",
       "      <td>...</td>\n",
       "      <td>...</td>\n",
       "      <td>...</td>\n",
       "      <td>...</td>\n",
       "      <td>...</td>\n",
       "      <td>...</td>\n",
       "      <td>...</td>\n",
       "      <td>...</td>\n",
       "      <td>...</td>\n",
       "      <td>...</td>\n",
       "    </tr>\n",
       "    <tr>\n",
       "      <th>0</th>\n",
       "      <td>7452.0</td>\n",
       "      <td>52</td>\n",
       "      <td>0</td>\n",
       "      <td>0.351365</td>\n",
       "      <td>10000</td>\n",
       "      <td>5</td>\n",
       "      <td>0</td>\n",
       "      <td>2</td>\n",
       "      <td>0</td>\n",
       "      <td>3</td>\n",
       "    </tr>\n",
       "    <tr>\n",
       "      <th>0</th>\n",
       "      <td>6109.0</td>\n",
       "      <td>43</td>\n",
       "      <td>0</td>\n",
       "      <td>0.229902</td>\n",
       "      <td>12500</td>\n",
       "      <td>9</td>\n",
       "      <td>0</td>\n",
       "      <td>2</td>\n",
       "      <td>0</td>\n",
       "      <td>0</td>\n",
       "    </tr>\n",
       "    <tr>\n",
       "      <th>0</th>\n",
       "      <td>22000.0</td>\n",
       "      <td>38</td>\n",
       "      <td>0</td>\n",
       "      <td>1.080020</td>\n",
       "      <td>3973</td>\n",
       "      <td>7</td>\n",
       "      <td>0</td>\n",
       "      <td>2</td>\n",
       "      <td>0</td>\n",
       "      <td>3</td>\n",
       "    </tr>\n",
       "    <tr>\n",
       "      <th>0</th>\n",
       "      <td>771.0</td>\n",
       "      <td>52</td>\n",
       "      <td>0</td>\n",
       "      <td>0.832021</td>\n",
       "      <td>8000</td>\n",
       "      <td>13</td>\n",
       "      <td>0</td>\n",
       "      <td>3</td>\n",
       "      <td>0</td>\n",
       "      <td>0</td>\n",
       "    </tr>\n",
       "    <tr>\n",
       "      <th>0</th>\n",
       "      <td>20514.0</td>\n",
       "      <td>42</td>\n",
       "      <td>0</td>\n",
       "      <td>0.062102</td>\n",
       "      <td>9902</td>\n",
       "      <td>1</td>\n",
       "      <td>1</td>\n",
       "      <td>0</td>\n",
       "      <td>0</td>\n",
       "      <td>2</td>\n",
       "    </tr>\n",
       "  </tbody>\n",
       "</table>\n",
       "<p>161 rows × 10 columns</p>\n",
       "</div>"
      ],
      "text/plain": [
       "                  RevolvingUtilizationOfUnsecuredLines  age  \\\n",
       "SeriousDlqin2yrs                                              \n",
       "0                                               2340.0   45   \n",
       "1                                               2066.0   58   \n",
       "1                                               1143.0   44   \n",
       "0                                               6324.0   59   \n",
       "0                                               1982.0   33   \n",
       "...                                                ...  ...   \n",
       "0                                               7452.0   52   \n",
       "0                                               6109.0   43   \n",
       "0                                              22000.0   38   \n",
       "0                                                771.0   52   \n",
       "0                                              20514.0   42   \n",
       "\n",
       "                  NumberOfTime30-59DaysPastDueNotWorse  DebtRatio  \\\n",
       "SeriousDlqin2yrs                                                    \n",
       "0                                                    0   0.339333   \n",
       "1                                                    0   0.271121   \n",
       "1                                                    2   0.547762   \n",
       "0                                                    0   0.136673   \n",
       "0                                                    0   0.144982   \n",
       "...                                                ...        ...   \n",
       "0                                                    0   0.351365   \n",
       "0                                                    0   0.229902   \n",
       "0                                                    0   1.080020   \n",
       "0                                                    0   0.832021   \n",
       "0                                                    0   0.062102   \n",
       "\n",
       "                  MonthlyIncome  NumberOfOpenCreditLinesAndLoans  \\\n",
       "SeriousDlqin2yrs                                                   \n",
       "0                          8333                                7   \n",
       "1                          6000                                8   \n",
       "1                          6500                               13   \n",
       "0                         11318                                4   \n",
       "0                          8000                                4   \n",
       "...                         ...                              ...   \n",
       "0                         10000                                5   \n",
       "0                         12500                                9   \n",
       "0                          3973                                7   \n",
       "0                          8000                               13   \n",
       "0                          9902                                1   \n",
       "\n",
       "                  NumberOfTimes90DaysLate  NumberRealEstateLoansOrLines  \\\n",
       "SeriousDlqin2yrs                                                          \n",
       "0                                       0                             2   \n",
       "1                                       1                             1   \n",
       "1                                       0                             4   \n",
       "0                                       0                             1   \n",
       "0                                       0                             0   \n",
       "...                                   ...                           ...   \n",
       "0                                       0                             2   \n",
       "0                                       0                             2   \n",
       "0                                       0                             2   \n",
       "0                                       0                             3   \n",
       "0                                       1                             0   \n",
       "\n",
       "                  NumberOfTime60-89DaysPastDueNotWorse  NumberOfDependents  \n",
       "SeriousDlqin2yrs                                                            \n",
       "0                                                    0                   2  \n",
       "1                                                    0                   1  \n",
       "1                                                    0                   2  \n",
       "0                                                    0                   1  \n",
       "0                                                    0                   0  \n",
       "...                                                ...                 ...  \n",
       "0                                                    0                   3  \n",
       "0                                                    0                   0  \n",
       "0                                                    0                   3  \n",
       "0                                                    0                   0  \n",
       "0                                                    0                   2  \n",
       "\n",
       "[161 rows x 10 columns]"
      ]
     },
     "execution_count": 80,
     "metadata": {},
     "output_type": "execute_result"
    }
   ],
   "source": [
    "training_data[training_data[\"RevolvingUtilizationOfUnsecuredLines\"] > 100]"
   ]
  },
  {
   "cell_type": "code",
   "execution_count": null,
   "id": "f16ae006",
   "metadata": {},
   "outputs": [],
   "source": []
  },
  {
   "cell_type": "markdown",
   "id": "4895a252",
   "metadata": {},
   "source": [
    "## Data Procesesing"
   ]
  },
  {
   "cell_type": "code",
   "execution_count": null,
   "id": "b8939cbd",
   "metadata": {},
   "outputs": [],
   "source": []
  },
  {
   "cell_type": "markdown",
   "id": "001d479d",
   "metadata": {},
   "source": [
    "## Data Preparation"
   ]
  },
  {
   "cell_type": "code",
   "execution_count": null,
   "id": "5805d7d8",
   "metadata": {},
   "outputs": [],
   "source": [
    "import pandas as pd\n",
    "\n",
    "training_data = pd.read_csv(\"./Raw Data/cs-training.csv\", index_col=0)\n",
    "test_data = pd.read_csv(\"./Raw Data/cs-test.csv\", index_col=0)\n",
    "\n",
    "# Dropping Nan since Nan seems to mean that no entry submitted for Monthly Income or Number of Dependents\n",
    "training_data.dropna(inplace = True)\n",
    "# Monthly income and Dependents are given as Integers\n",
    "training_data = training_data.astype({\"NumberOfDependents\":'int', \"MonthlyIncome\":'int'}) \n",
    "# Splitting Training Data into Training and Validation\n",
    "training_data_X = training_data[training_data.columns.drop('SeriousDlqin2yrs')]\n",
    "training_data_Y = training_data[[\"SeriousDlqin2yrs\"]]\n",
    "\n",
    "split_index = int(len(training_data_X) * 0.2)\n",
    "\n",
    "validation_data_X = training_data_X.iloc[:split_index, :]\n",
    "validation_data_Y = training_data_Y.iloc[:split_index, :]\n",
    "\n",
    "training_data_X = training_data_X.iloc[split_index:, :]\n",
    "training_data_Y = training_data_Y.iloc[split_index:, :]\n",
    "\n",
    "test_data_X = test_data[test_data.columns.drop('SeriousDlqin2yrs')]\n",
    "\n",
    "training_data_X.to_csv(\"./Cleaned Data/Train/train_X.csv\", index=False)\n",
    "training_data_Y.to_csv(\"./Cleaned Data/Train/train_Y.csv\", index=False)\n",
    "\n",
    "validation_data_X.to_csv(\"./Cleaned Data/Validation/valid_X.csv\", index=False)\n",
    "validation_data_Y.to_csv(\"./Cleaned Data/Validation/valid_Y.csv\", index=False)\n",
    "\n",
    "test_data_X.to_csv(\"./Cleaned Data/Test/test_X.csv\", index=False)\n",
    "\n",
    "training_data.to_csv(\"./Cleaned Data/Analysis/data.csv\", index=False)"
   ]
  }
 ],
 "metadata": {
  "kernelspec": {
   "display_name": "Python 3 (ipykernel)",
   "language": "python",
   "name": "python3"
  },
  "language_info": {
   "codemirror_mode": {
    "name": "ipython",
    "version": 3
   },
   "file_extension": ".py",
   "mimetype": "text/x-python",
   "name": "python",
   "nbconvert_exporter": "python",
   "pygments_lexer": "ipython3",
   "version": "3.9.7"
  }
 },
 "nbformat": 4,
 "nbformat_minor": 5
}
